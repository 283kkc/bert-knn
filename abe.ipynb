{
 "cells": [
  {
   "cell_type": "code",
   "execution_count": 1,
   "metadata": {},
   "outputs": [],
   "source": [
    "import utils"
   ]
  },
  {
   "cell_type": "code",
   "execution_count": 2,
   "metadata": {},
   "outputs": [
    {
     "data": {
      "text/html": [
       "<div>\n",
       "<style scoped>\n",
       "    .dataframe tbody tr th:only-of-type {\n",
       "        vertical-align: middle;\n",
       "    }\n",
       "\n",
       "    .dataframe tbody tr th {\n",
       "        vertical-align: top;\n",
       "    }\n",
       "\n",
       "    .dataframe thead th {\n",
       "        text-align: right;\n",
       "    }\n",
       "</style>\n",
       "<table border=\"1\" class=\"dataframe\">\n",
       "  <thead>\n",
       "    <tr style=\"text-align: right;\">\n",
       "      <th></th>\n",
       "      <th>url</th>\n",
       "      <th>Full Name Show</th>\n",
       "      <th>Username Dir</th>\n",
       "      <th>Tweet Nav</th>\n",
       "      <th>Tweet Nav_link</th>\n",
       "      <th>Tweet Text Size Block</th>\n",
       "      <th>Tweet Text Size Link</th>\n",
       "      <th>Tweet Text Size Link_link</th>\n",
       "      <th>Profile Tweet 1</th>\n",
       "      <th>Profile Tweet 2</th>\n",
       "      <th>Profile Tweet 3</th>\n",
       "      <th>Reply</th>\n",
       "      <th>Re Tweet</th>\n",
       "      <th>Like</th>\n",
       "    </tr>\n",
       "  </thead>\n",
       "  <tbody>\n",
       "    <tr>\n",
       "      <th>0</th>\n",
       "      <td>https://twitter.com/AbeShinzo</td>\n",
       "      <td>安倍晋三</td>\n",
       "      <td>AbeShinzo</td>\n",
       "      <td>Oct 21</td>\n",
       "      <td>https://twitter.com/AbeShinzo/status/921745765...</td>\n",
       "      <td>選挙期間中、自民党の候補者たちは全国各地で我々の経済政策を、安全保障を、そして日本の将来を担...</td>\n",
       "      <td>https://twitter.com/jimin_koho/status/92174405...</td>\n",
       "      <td>https://t.co/HVjFn3QJp5</td>\n",
       "      <td>1,133 replies</td>\n",
       "      <td>5,752 retweets</td>\n",
       "      <td>14,514 likes</td>\n",
       "      <td>1.1K</td>\n",
       "      <td>5.8K</td>\n",
       "      <td>15K</td>\n",
       "    </tr>\n",
       "    <tr>\n",
       "      <th>1</th>\n",
       "      <td>https://twitter.com/AbeShinzo</td>\n",
       "      <td>安倍晋三</td>\n",
       "      <td>AbeShinzo</td>\n",
       "      <td>Oct 20</td>\n",
       "      <td>https://twitter.com/AbeShinzo/status/921350545...</td>\n",
       "      <td>外国人旅行者数はこの５年間で３倍になりました。自民党は高次元での観光資源施策に取り組み我が国...</td>\n",
       "      <td>pic.twitter.com/EMNDcADrYB</td>\n",
       "      <td>https://t.co/EMNDcADrYB</td>\n",
       "      <td>606 replies</td>\n",
       "      <td>3,712 retweets</td>\n",
       "      <td>8,946 likes</td>\n",
       "      <td>606</td>\n",
       "      <td>3.7K</td>\n",
       "      <td>8.9K</td>\n",
       "    </tr>\n",
       "    <tr>\n",
       "      <th>2</th>\n",
       "      <td>https://twitter.com/AbeShinzo</td>\n",
       "      <td>安倍晋三</td>\n",
       "      <td>AbeShinzo</td>\n",
       "      <td>Oct 20</td>\n",
       "      <td>https://twitter.com/AbeShinzo/status/921322049...</td>\n",
       "      <td>明日１０月２１日(土) 安倍晋三総裁は岐阜県、愛知県、東京都に参ります。 詳細は是非、自民党...</td>\n",
       "      <td>https://special.jimin.jp/</td>\n",
       "      <td>https://t.co/vKXI8z5Mjr</td>\n",
       "      <td>358 replies</td>\n",
       "      <td>2,213 retweets</td>\n",
       "      <td>4,922 likes</td>\n",
       "      <td>358</td>\n",
       "      <td>2.2K</td>\n",
       "      <td>4.9K</td>\n",
       "    </tr>\n",
       "    <tr>\n",
       "      <th>3</th>\n",
       "      <td>https://twitter.com/AbeShinzo</td>\n",
       "      <td>安倍晋三</td>\n",
       "      <td>AbeShinzo</td>\n",
       "      <td>Oct 19</td>\n",
       "      <td>https://twitter.com/AbeShinzo/status/920998741...</td>\n",
       "      <td>我々がスタートした返さなくても良い「給付型奨学金」や「授業料免除」といった制度を拡充し、真に...</td>\n",
       "      <td>pic.twitter.com/ZgAYDhlzDD</td>\n",
       "      <td>https://t.co/ZgAYDhlzDD</td>\n",
       "      <td>456 replies</td>\n",
       "      <td>3,081 retweets</td>\n",
       "      <td>6,576 likes</td>\n",
       "      <td>456</td>\n",
       "      <td>3.1K</td>\n",
       "      <td>6.6K</td>\n",
       "    </tr>\n",
       "    <tr>\n",
       "      <th>4</th>\n",
       "      <td>https://twitter.com/AbeShinzo</td>\n",
       "      <td>安倍晋三</td>\n",
       "      <td>AbeShinzo</td>\n",
       "      <td>Oct 19</td>\n",
       "      <td>https://twitter.com/AbeShinzo/status/920991367...</td>\n",
       "      <td>明日１０月２０日(金) 安倍晋三総裁は神奈川県、東京都に参ります。 詳細は是非、自民党の特設...</td>\n",
       "      <td>https://special.jimin.jp/</td>\n",
       "      <td>https://t.co/vKXI8z5Mjr</td>\n",
       "      <td>271 replies</td>\n",
       "      <td>2,291 retweets</td>\n",
       "      <td>5,610 likes</td>\n",
       "      <td>271</td>\n",
       "      <td>2.3K</td>\n",
       "      <td>5.6K</td>\n",
       "    </tr>\n",
       "  </tbody>\n",
       "</table>\n",
       "</div>"
      ],
      "text/plain": [
       "                             url Full Name Show Username Dir Tweet Nav  \\\n",
       "0  https://twitter.com/AbeShinzo           安倍晋三    AbeShinzo    Oct 21   \n",
       "1  https://twitter.com/AbeShinzo           安倍晋三    AbeShinzo    Oct 20   \n",
       "2  https://twitter.com/AbeShinzo           安倍晋三    AbeShinzo    Oct 20   \n",
       "3  https://twitter.com/AbeShinzo           安倍晋三    AbeShinzo    Oct 19   \n",
       "4  https://twitter.com/AbeShinzo           安倍晋三    AbeShinzo    Oct 19   \n",
       "\n",
       "                                      Tweet Nav_link  \\\n",
       "0  https://twitter.com/AbeShinzo/status/921745765...   \n",
       "1  https://twitter.com/AbeShinzo/status/921350545...   \n",
       "2  https://twitter.com/AbeShinzo/status/921322049...   \n",
       "3  https://twitter.com/AbeShinzo/status/920998741...   \n",
       "4  https://twitter.com/AbeShinzo/status/920991367...   \n",
       "\n",
       "                               Tweet Text Size Block  \\\n",
       "0  選挙期間中、自民党の候補者たちは全国各地で我々の経済政策を、安全保障を、そして日本の将来を担...   \n",
       "1  外国人旅行者数はこの５年間で３倍になりました。自民党は高次元での観光資源施策に取り組み我が国...   \n",
       "2  明日１０月２１日(土) 安倍晋三総裁は岐阜県、愛知県、東京都に参ります。 詳細は是非、自民党...   \n",
       "3  我々がスタートした返さなくても良い「給付型奨学金」や「授業料免除」といった制度を拡充し、真に...   \n",
       "4  明日１０月２０日(金) 安倍晋三総裁は神奈川県、東京都に参ります。 詳細は是非、自民党の特設...   \n",
       "\n",
       "                                Tweet Text Size Link  \\\n",
       "0  https://twitter.com/jimin_koho/status/92174405...   \n",
       "1                         pic.twitter.com/EMNDcADrYB   \n",
       "2                          https://special.jimin.jp/   \n",
       "3                         pic.twitter.com/ZgAYDhlzDD   \n",
       "4                          https://special.jimin.jp/   \n",
       "\n",
       "  Tweet Text Size Link_link Profile Tweet 1 Profile Tweet 2 Profile Tweet 3  \\\n",
       "0   https://t.co/HVjFn3QJp5   1,133 replies  5,752 retweets    14,514 likes   \n",
       "1   https://t.co/EMNDcADrYB     606 replies  3,712 retweets     8,946 likes   \n",
       "2   https://t.co/vKXI8z5Mjr     358 replies  2,213 retweets     4,922 likes   \n",
       "3   https://t.co/ZgAYDhlzDD     456 replies  3,081 retweets     6,576 likes   \n",
       "4   https://t.co/vKXI8z5Mjr     271 replies  2,291 retweets     5,610 likes   \n",
       "\n",
       "  Reply Re Tweet  Like  \n",
       "0  1.1K     5.8K   15K  \n",
       "1   606     3.7K  8.9K  \n",
       "2   358     2.2K  4.9K  \n",
       "3   456     3.1K  6.6K  \n",
       "4   271     2.3K  5.6K  "
      ]
     },
     "execution_count": 2,
     "metadata": {},
     "output_type": "execute_result"
    }
   ],
   "source": [
    "df = utils.read_data('dataset/ja/shinzo_abe.csv')\n",
    "df.head()"
   ]
  },
  {
   "cell_type": "code",
   "execution_count": 3,
   "metadata": {},
   "outputs": [
    {
     "name": "stdout",
     "output_type": "stream",
     "text": [
      "start encoding\n",
      "finish encoding\n",
      "6.252921104431152\n",
      "finish indexing 0.00428318977355957\n",
      "finish query 0.000225067138671875\n",
      "id: [ 0  7  9 42 72 71 31  1 30 18]\n",
      "distance [-2.3841858e-07  7.9584837e-02  8.2214832e-02  8.3856285e-02\n",
      "  9.4614148e-02  9.8112345e-02  9.8878205e-02  9.9655569e-02\n",
      "  1.0305095e-01  1.0417873e-01]\n"
     ]
    }
   ],
   "source": [
    "tweet = list(df.loc[:, 'Tweet Text Size Block'])\n",
    "vecs = utils.bert_encode(tweet)\n",
    "ids = utils.get_near(vecs, vecs[0])"
   ]
  },
  {
   "cell_type": "code",
   "execution_count": 6,
   "metadata": {},
   "outputs": [
    {
     "name": "stderr",
     "output_type": "stream",
     "text": [
      "/Users/kikuchitsubasa/.pyenv/versions/3.6.5/envs/bert_client_api/lib/python3.6/site-packages/ipykernel_launcher.py:1: FutureWarning: \n",
      ".ix is deprecated. Please use\n",
      ".loc for label based indexing or\n",
      ".iloc for positional indexing\n",
      "\n",
      "See the documentation here:\n",
      "http://pandas.pydata.org/pandas-docs/stable/user_guide/indexing.html#ix-indexer-is-deprecated\n",
      "  \"\"\"Entry point for launching an IPython kernel.\n"
     ]
    },
    {
     "data": {
      "text/plain": [
       "['選挙期間中、自民党の候補者たちは全国各地で我々の経済政策を、安全保障を、そして日本の将来を担っていく決意と地域を支える想いを皆様に訴えかけさせていただきました。「この国を、守り抜く。」自民党はこれからも皆様とともに歩みを進めて参ります。本当に１２日間ご声援ありがとうございました。https://twitter.com/jimin_koho/status/921744056987693057 …',\n",
       " '私たち自民党は日本の経済を支えている中小企業を力強く応援したい。その思いから中小・小規模事業者の固定資産税を、３年間半減する制度を始め既に３万件近い利用がありました。この制度の実現により中小企業の倒産は3割も減少しました。更に生産性を高めるための支援を大胆に進めます。pic.twitter.com/N9oB57kACi',\n",
       " 'この選挙は北朝鮮の脅威から、いかにして国民の生命と幸せな暮らしを守るのかを決める選挙でもあります。自民党は今まで培ってきた外交力、国際社会との連携とぶれない姿勢で毅然と北朝鮮問題に立ち向かって参ります。pic.twitter.com/LWJdvsIGWp',\n",
       " '明日は投票日。全国で厳しい戦いが続いております。我々は身を引き締め最後まで戦い抜きます。日本の未来のために自民党候補者達への力強いご支援よろしくお願いいたします。https://youtu.be/aZldSio8GXI',\n",
       " '福島で美味しい牛乳をいただきました。５人の被災農家が力を合わせて酪農の再開を決意し、新しい牛舎ができて「がんばろうという気持ちになった。」地域とのつながりを活かして、「酪農っていいね」と多くの人に言ってもらう夢を成就させてください。pic.twitter.com/gakkwxC2u4',\n",
       " '東日本大震災から５年が過ぎました。最愛の御家族や御親族、御友人を亡くされた方々に、衷心より哀悼の意を捧げます。御霊を前に永遠に安かれとお祈り申し上げるとともに、地域の創生につながる復興を成し遂げていくことの決意を新たに致しました。pic.twitter.com/n2NPfR7E16',\n",
       " 'いよいよ選挙戦が始まります。 「この国を、守り抜く。」 私たちは正々堂々、具体的な政策を全国で訴えていきます。pic.twitter.com/XxjMAEJN16',\n",
       " '外国人旅行者数はこの５年間で３倍になりました。自民党は高次元での観光資源施策に取り組み我が国の伝統文化財等の国内観光資源の強化を図り、さらに観光産業の活性化を実現して参ります。pic.twitter.com/EMNDcADrYB',\n",
       " '日本海で北朝鮮の弾道ミサイル警戒に当たり、今日、母港の舞鶴に戻ったばかりのイージス艦「みょうこう」を訪問し、自衛隊員の皆さんを激励しました。皆、実に頼もしく、最高指揮官として大変心強く思いました。pic.twitter.com/NctWbpP8Ip',\n",
       " '「自民党頑張れ！」と大勢の皆様にお集まりいただき本当にありがとうございます。我が党の候補者達は国難を突破すべく、そして皆様のご期待にそえるよう最後まで全力で皆様へ政策を訴えさせていただきます。どうかご支援の程よろしくお願いいたします。 #この国を守り抜く #衆院選 #自民党pic.twitter.com/EBdCyKT6om']"
      ]
     },
     "execution_count": 6,
     "metadata": {},
     "output_type": "execute_result"
    }
   ],
   "source": [
    "list(df.ix[ids]['Tweet Text Size Block'])"
   ]
  },
  {
   "cell_type": "code",
   "execution_count": null,
   "metadata": {},
   "outputs": [],
   "source": []
  }
 ],
 "metadata": {
  "kernelspec": {
   "display_name": "Python 3",
   "language": "python",
   "name": "python3"
  },
  "language_info": {
   "codemirror_mode": {
    "name": "ipython",
    "version": 3
   },
   "file_extension": ".py",
   "mimetype": "text/x-python",
   "name": "python",
   "nbconvert_exporter": "python",
   "pygments_lexer": "ipython3",
   "version": "3.6.5"
  }
 },
 "nbformat": 4,
 "nbformat_minor": 4
}
