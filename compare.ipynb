{
 "cells": [
  {
   "cell_type": "code",
   "execution_count": 1,
   "metadata": {},
   "outputs": [],
   "source": [
    "import os, sys, time\n",
    "from utils import *"
   ]
  },
  {
   "cell_type": "code",
   "execution_count": 2,
   "metadata": {},
   "outputs": [
    {
     "data": {
      "text/plain": [
       "79"
      ]
     },
     "execution_count": 2,
     "metadata": {},
     "output_type": "execute_result"
    }
   ],
   "source": [
    "with open('abe.txt', 'r') as f:\n",
    "    abe_text_list = list(f.readlines())\n",
    "len(abe_text_list)"
   ]
  },
  {
   "cell_type": "code",
   "execution_count": 3,
   "metadata": {},
   "outputs": [
    {
     "name": "stdout",
     "output_type": "stream",
     "text": [
      "start encoding\n",
      "finish encoding\n",
      "1.0186996459960938\n"
     ]
    }
   ],
   "source": [
    "bert_serving_client_res = bert_encode(abe_text_list)"
   ]
  },
  {
   "cell_type": "code",
   "execution_count": 4,
   "metadata": {},
   "outputs": [
    {
     "name": "stdout",
     "output_type": "stream",
     "text": [
      "start encoding\n",
      "finish encoding\n",
      "18.96834444999695\n"
     ]
    }
   ],
   "source": [
    "torch_encoder_res = torch_encode(abe_text_list)"
   ]
  },
  {
   "cell_type": "code",
   "execution_count": 5,
   "metadata": {},
   "outputs": [
    {
     "name": "stdout",
     "output_type": "stream",
     "text": [
      "79\n",
      "79\n"
     ]
    }
   ],
   "source": [
    "print(len(bert_serving_client_res))\n",
    "print(len(torch_encoder_res))"
   ]
  },
  {
   "cell_type": "code",
   "execution_count": 8,
   "metadata": {},
   "outputs": [
    {
     "name": "stdout",
     "output_type": "stream",
     "text": [
      "finish indexing 0.009681940078735352\n",
      "finish query 0.00010561943054199219\n",
      "id: [ 0  7  9 42 72 71 31  1 30 18]\n",
      "distance [0.         0.07958472 0.08221525 0.08385628 0.09461427 0.09811246\n",
      " 0.09887803 0.09965551 0.10305065 0.10417837]\n",
      "----------\n",
      "finish indexing 0.011562585830688477\n",
      "finish query 0.0003039836883544922\n",
      "id: [ 0 18 50 71 15 25 58 77  9 13]\n",
      "distance [0.         0.06086588 0.06629688 0.06943285 0.06998211 0.07212806\n",
      " 0.07325    0.07427919 0.0748322  0.07498729]\n"
     ]
    }
   ],
   "source": [
    "result_serving_client = get_near(bert_serving_client_res, bert_serving_client_res[0])\n",
    "print('-'*10)\n",
    "result_torch = get_near(torch_encoder_res, torch_encoder_res[0])"
   ]
  },
  {
   "cell_type": "code",
   "execution_count": 9,
   "metadata": {},
   "outputs": [
    {
     "name": "stdout",
     "output_type": "stream",
     "text": [
      "選挙期間中、自民党の候補者たちは全国各地で我々の経済政策を、安全保障を、そして日本の将来を担っていく決意と地域を支える想いを皆様に訴えかけさせていただきました。「この国を、守り抜く。」自民党はこれからも皆様とともに歩みを進めて参ります。本当に１２日間ご声援ありがとうございました。https://twitter.com/jimin_koho/status/921744056987693057 …\n",
      "\n",
      "私たち自民党は日本の経済を支えている中小企業を力強く応援したい。その思いから中小・小規模事業者の固定資産税を、３年間半減する制度を始め既に３万件近い利用がありました。この制度の実現により中小企業の倒産は3割も減少しました。更に生産性を高めるための支援を大胆に進めます。pic.twitter.com/N9oB57kACi\n",
      "\n",
      "この選挙は北朝鮮の脅威から、いかにして国民の生命と幸せな暮らしを守るのかを決める選挙でもあります。自民党は今まで培ってきた外交力、国際社会との連携とぶれない姿勢で毅然と北朝鮮問題に立ち向かって参ります。pic.twitter.com/LWJdvsIGWp\n",
      "\n",
      "明日は投票日。全国で厳しい戦いが続いております。我々は身を引き締め最後まで戦い抜きます。日本の未来のために自民党候補者達への力強いご支援よろしくお願いいたします。https://youtu.be/aZldSio8GXI\n",
      "\n",
      "福島で美味しい牛乳をいただきました。５人の被災農家が力を合わせて酪農の再開を決意し、新しい牛舎ができて「がんばろうという気持ちになった。」地域とのつながりを活かして、「酪農っていいね」と多くの人に言ってもらう夢を成就させてください。pic.twitter.com/gakkwxC2u4\n",
      "\n",
      "東日本大震災から５年が過ぎました。最愛の御家族や御親族、御友人を亡くされた方々に、衷心より哀悼の意を捧げます。御霊を前に永遠に安かれとお祈り申し上げるとともに、地域の創生につながる復興を成し遂げていくことの決意を新たに致しました。pic.twitter.com/n2NPfR7E16\n",
      "\n",
      "いよいよ選挙戦が始まります。 「この国を、守り抜く。」 私たちは正々堂々、具体的な政策を全国で訴えていきます。pic.twitter.com/XxjMAEJN16\n",
      "\n",
      "外国人旅行者数はこの５年間で３倍になりました。自民党は高次元での観光資源施策に取り組み我が国の伝統文化財等の国内観光資源の強化を図り、さらに観光産業の活性化を実現して参ります。pic.twitter.com/EMNDcADrYB\n",
      "\n",
      "日本海で北朝鮮の弾道ミサイル警戒に当たり、今日、母港の舞鶴に戻ったばかりのイージス艦「みょうこう」を訪問し、自衛隊員の皆さんを激励しました。皆、実に頼もしく、最高指揮官として大変心強く思いました。pic.twitter.com/NctWbpP8Ip\n",
      "\n",
      "「自民党頑張れ！」と大勢の皆様にお集まりいただき本当にありがとうございます。我が党の候補者達は国難を突破すべく、そして皆様のご期待にそえるよう最後まで全力で皆様へ政策を訴えさせていただきます。どうかご支援の程よろしくお願いいたします。 #この国を守り抜く #衆院選 #自民党pic.twitter.com/EBdCyKT6om\n",
      "\n"
     ]
    }
   ],
   "source": [
    "for i in result_serving_client:\n",
    "    print(abe_text_list[i])"
   ]
  },
  {
   "cell_type": "code",
   "execution_count": 10,
   "metadata": {},
   "outputs": [
    {
     "name": "stdout",
     "output_type": "stream",
     "text": [
      "選挙期間中、自民党の候補者たちは全国各地で我々の経済政策を、安全保障を、そして日本の将来を担っていく決意と地域を支える想いを皆様に訴えかけさせていただきました。「この国を、守り抜く。」自民党はこれからも皆様とともに歩みを進めて参ります。本当に１２日間ご声援ありがとうございました。https://twitter.com/jimin_koho/status/921744056987693057 …\n",
      "\n",
      "「自民党頑張れ！」と大勢の皆様にお集まりいただき本当にありがとうございます。我が党の候補者達は国難を突破すべく、そして皆様のご期待にそえるよう最後まで全力で皆様へ政策を訴えさせていただきます。どうかご支援の程よろしくお願いいたします。 #この国を守り抜く #衆院選 #自民党pic.twitter.com/EBdCyKT6om\n",
      "\n",
      "福島の「女将会」は、震災以降、福島の魅力の発信や風評の克服に力を注いで来られました。その甲斐もあり、福島の観光業は、ゆっくりと回復しつつありま す。官邸を訪れる各国首脳には、福島のお酒や天然炭酸水をふるまっています。pic.twitter.com/pXhLqM7vzj\n",
      "\n",
      "東日本大震災から５年が過ぎました。最愛の御家族や御親族、御友人を亡くされた方々に、衷心より哀悼の意を捧げます。御霊を前に永遠に安かれとお祈り申し上げるとともに、地域の創生につながる復興を成し遂げていくことの決意を新たに致しました。pic.twitter.com/n2NPfR7E16\n",
      "\n",
      "日本、そして世界の安全を脅かす北朝鮮の暴挙を止めるため、国際社会全体で最大限の圧力をかけなければならない。そして何より、日本人の拉致問題を決して埋没させてはならない。横田めぐみさんをはじめ、全ての拉致被害者の方々が日本の地を踏みしめるまで、私たちの闘いは終わりません。 #自民党pic.twitter.com/iSFwmiD5yl\n",
      "\n",
      "2012年の総理大臣就任以来、世界42ヵ国を巡り、191回の首脳会談を行ってきました。 日本が国難に直面している今こそ、築きあげてきた世界各国との信頼関係と、外交力でこの国を力強く守ってまいります。pic.twitter.com/ocb08B1mTZ\n",
      "\n",
      "核セキュリティ・サミットは、今回が最後です。核がテロに使われることを防ぐ。これは一国だけでは成し遂げられません。あらゆるレベルで国際的に連帯して対処しなければならない、と訴えました。#NuclearSummitpic.twitter.com/4sewoR7ExH\n",
      "\n",
      "一人の結果が全員に影響する、究極のチームワーク。正月の駅伝で完全優勝を果たした、青山学院大学の原監督と選手の皆さんは、優勝の感動をしみじみ語ってくれました。選手たちは礼儀正しくも、明るく自由闊達で、大いに会話が盛り上がりました。pic.twitter.com/wX9rebRmTD\n",
      "\n",
      "この選挙は北朝鮮の脅威から、いかにして国民の生命と幸せな暮らしを守るのかを決める選挙でもあります。自民党は今まで培ってきた外交力、国際社会との連携とぶれない姿勢で毅然と北朝鮮問題に立ち向かって参ります。pic.twitter.com/LWJdvsIGWp\n",
      "\n",
      "熊本地震から一年半、被害に遭われまだまだ不自由な生活を余儀なくされている多くの被災者の皆様が早く安心して元の生活に戻れるよう全力で復興を成し遂げて参ります。 #この国を守り抜く #衆院選 #自民党pic.twitter.com/HSCeZwlQWl\n",
      "\n"
     ]
    }
   ],
   "source": [
    "for i in result_torch:\n",
    "    print(abe_text_list[i])"
   ]
  },
  {
   "cell_type": "code",
   "execution_count": null,
   "metadata": {},
   "outputs": [],
   "source": []
  }
 ],
 "metadata": {
  "kernelspec": {
   "display_name": "Python 3",
   "language": "python",
   "name": "python3"
  },
  "language_info": {
   "codemirror_mode": {
    "name": "ipython",
    "version": 3
   },
   "file_extension": ".py",
   "mimetype": "text/x-python",
   "name": "python",
   "nbconvert_exporter": "python",
   "pygments_lexer": "ipython3",
   "version": "3.6.5"
  }
 },
 "nbformat": 4,
 "nbformat_minor": 4
}
