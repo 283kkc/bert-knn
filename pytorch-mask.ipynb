{
 "cells": [
  {
   "cell_type": "code",
   "execution_count": 1,
   "metadata": {},
   "outputs": [],
   "source": [
    "# pytorch_pretrained_bert/tokenizetion.py\n",
    "# comment out the line \n",
    "# text = self._tokenize_chinese_chars(text)"
   ]
  },
  {
   "cell_type": "code",
   "execution_count": null,
   "metadata": {},
   "outputs": [
    {
     "name": "stdout",
     "output_type": "stream",
     "text": [
      "Better speed can be achieved with apex installed from https://www.github.com/nvidia/apex.\n"
     ]
    }
   ],
   "source": [
    "import torch\n",
    "from pytorch_pretrained_bert import BertTokenizer, BertForPreTraining, modeling\n",
    "from pyknp import Juman\n",
    "\n",
    "config = modeling.BertConfig(vocab_size_or_config_json_file=32006,\n",
    "                            hidden_size=768, num_hidden_layers=12,\n",
    "                            num_attention_heads=12, intermediate_size=3072)\n",
    "model = BertForPreTraining(config=config)\n",
    "model.load_state_dict(torch.load(\"bert/ja/Japanese_L-12_H-768_A-12_E-30_BPE_WWM/pytorch_model.bin\"))\n",
    "tokenizer = BertTokenizer(\"bert/ja/Japanese_L-12_H-768_A-12_E-30_BPE_WWM/vocab.txt\", do_lower_case=False)\n",
    "\n",
    "jm = Juman()\n",
    "res = jm.analysis(\"今日は良い天気でサッカーがしたくなりますね。\")\n",
    "hoge = [\"[CLS]\"] + [i.midasi for i in res.mrph_list()]\n",
    "hoge[6] = \"[MASK]\"\n",
    "tokens = tokenizer.tokenize(\" \".join(hoge))\n",
    "ids = tokenizer.convert_tokens_to_ids(tokens)\n",
    "print([(i, j) for i, j  in enumerate(tokens)])"
   ]
  },
  {
   "cell_type": "code",
   "execution_count": null,
   "metadata": {},
   "outputs": [],
   "source": [
    "ids = torch.tensor(ids).reshape(1, -1)\n",
    "model.eval()\n",
    "with torch.no_grad():\n",
    "    output, _ = model(ids)\n",
    "print([tokenizer.ids_to_tokens[i.item()] for i in output[0][6].argsort()[-10:]])"
   ]
  },
  {
   "cell_type": "code",
   "execution_count": 6,
   "metadata": {},
   "outputs": [
    {
     "data": {
      "text/plain": [
       "torch.Size([1, 18])"
      ]
     },
     "execution_count": 6,
     "metadata": {},
     "output_type": "execute_result"
    }
   ],
   "source": [
    "i"
   ]
  },
  {
   "cell_type": "code",
   "execution_count": null,
   "metadata": {},
   "outputs": [],
   "source": []
  }
 ],
 "metadata": {
  "kernelspec": {
   "display_name": "Python 3",
   "language": "python",
   "name": "python3"
  },
  "language_info": {
   "codemirror_mode": {
    "name": "ipython",
    "version": 3
   },
   "file_extension": ".py",
   "mimetype": "text/x-python",
   "name": "python",
   "nbconvert_exporter": "python",
   "pygments_lexer": "ipython3",
   "version": "3.6.5"
  }
 },
 "nbformat": 4,
 "nbformat_minor": 4
}
